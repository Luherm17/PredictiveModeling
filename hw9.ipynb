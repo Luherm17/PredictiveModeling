{
 "cells": [
  {
   "cell_type": "code",
   "execution_count": null,
   "id": "50ec5012",
   "metadata": {
    "deletable": false,
    "editable": false
   },
   "outputs": [],
   "source": [
    "# Initialize Otter\n",
    "import otter\n",
    "grader = otter.Notebook(\"hw9.ipynb\")"
   ]
  },
  {
   "cell_type": "markdown",
   "id": "5849f8e4",
   "metadata": {},
   "source": [
    "# Homework 9: Predictive Modelling and Model Comparision"
   ]
  },
  {
   "cell_type": "markdown",
   "id": "bfafc120",
   "metadata": {},
   "source": [
    "Name:\n",
    "\n",
    "Student ID:\n",
    "\n",
    "Collaborators:\n"
   ]
  },
  {
   "cell_type": "markdown",
   "id": "d762eb75",
   "metadata": {},
   "source": [
    "## Instructions\n",
    "\n",
    "This is the final homework/Project, which is about Understanding Data Profiling, Feature Engineering, Feature Selection, Model Comparision & Selection as a _final project_ for our 217a class.\n",
    "\n",
    "We will be using the techniques and approaches introduced throughout the course focusing mainly towards the second half of the semester:\n",
    "\n",
    "* [M0] Python for DS\n",
    "* [M1] The DS and ML Workflows\n",
    "* [M2] Exploratory Data Analsyis\n",
    "* [M3] Sentiment Analysis (if applicable - depends on problem/dataset)\n",
    "* **[M4] Linear Regression (if applicable - depends on problem/dataset)**\n",
    "* **[M5] Linear Classification (if applicable - depends on problem/dataset)**\n",
    "* [M6] Learning Principles and Ethical Thinking for DS\n",
    "* **[M7] Clustering K-Means (if applicable - depends on problem/dataset)** \n",
    "* **[M8] Similarity-based Learning K-NN (if applicable - depends on problem/dataset)**\n",
    "* **[M9] More Models (Decision Tree, Random Forest, Neural Network) for Feature Engineering & Model Comparision & Selection**\n",
    "* **[Lecture Discussion session] Creating & Managing Model pipeline for ML workflow**\n",
    "\n",
    "The main focus of this project is majorly on the last modules [M4]-[M10]. In particular, it will be helpful to review **Lab 4 & hw4 onwards for more clarification**.\n",
    "Most of the things you will do in this final project are explained in `Lab9-1 and Lab9-2` and `Final Lecture Discussion session with Demo`. Then, review the other labs and hws to recap the general workflow of our DS approaches to the various problems we have worked on so far. This will help you to be prepared for all the steps in this project, so that you do not miss anything. \n",
    "\n",
    "In gernal, you should feel free to import any package that we have previously used in class. Ensure that all plots have the necessary components that a plot should have (e.g. axes labels, a title, a legend).\n",
    "\n",
    "Additionally, note that this assignment is more like a project than a typical homework and it will have a slightly different structure than the hws in the past. One of the reasons why Jupyter Notebooks are so popular in the field is because you can really treat them like notebooks to explain your findings as you discover them. In this assignment, we provide some **Problem** stubs following the DS workflow and you will need to fill in the analysis and structure as you go.\n",
    "\n",
    "Furthermore, in addition to recording your collaborators on this homework, please also remember to cite/indicate all external sources used when finishing this assignment. This includes peers, TAs, and links to online sources. \n",
    "\n",
    "Frequently **save** your notebook!"
   ]
  },
  {
   "cell_type": "markdown",
   "id": "dd537174",
   "metadata": {},
   "source": [
    "### Collaborators and Sources\n",
    "Furthermore, in addition to recording your **collaborators** on this homework, please also remember to **cite/indicate all external sources** used when finishing this assignment. \n",
    "> This includes peers, TAs, and links to online sources. \n",
    "\n",
    "Note that these citations will not free you from your obligation to submit your _own_ code and write-ups, however, they will be taken into account during the grading and regrading process."
   ]
  },
  {
   "cell_type": "code",
   "execution_count": null,
   "id": "1686bf54",
   "metadata": {},
   "outputs": [],
   "source": [
    "# collaborators and sources:\n",
    "# Albert Einstein and Marie Curie\n",
    "# https://developers.google.com/edu/python/strings\n",
    "\n",
    "# your code here\n",
    "answer = 'my answer'"
   ]
  },
  {
   "cell_type": "markdown",
   "id": "43d57f0a",
   "metadata": {},
   "source": [
    "### Submission instructions\n",
    "* Submit this Python notebook, including your answers in the code cells as homework submission.\n",
    "* **Feel free to add as many cells as you need to** — just make sure you don't change what we gave you. \n",
    "* **Does it spark joy?** Note that you will be partially graded on the presentation (_cleanliness, clarity, comments_) of your notebook so make sure you [Marie Kondo](https://lifehacker.com/marie-kondo-is-not-a-verb-1833373654) your notebook before submitting it."
   ]
  },
  {
   "cell_type": "markdown",
   "id": "1f07e1a6",
   "metadata": {},
   "source": [
    "## 1. Introduction\n",
    "\n",
    "For our final project this semester, we'll take a look at data for California Housing Price Prediction\n",
    "https://www.kaggle.com/subashdump/california-housing-price-prediction/data \n",
    "\n",
    "\n",
    "As you have seen throughout the semseter we have learned various techniques to solve a problem task (Classification, Regression, Clustering etc.) starting from problem formulation to EDA to model building to model evaluation and performing feaure engineering and selection in order to improve the model's performance.\n",
    "You will be combining all the knowledge learned so far in this final project. You will be making assuptions and decisions on your own with appropriate justifications in writeups about how to improve the prediction model using all the tools and techniques learned so far and provide the best model at the end.\n",
    "\n",
    "\n",
    "The project aims at building a model of housing prices to predict median house values in California using the provided dataset. This model should learn from the data and be able to predict the median housing price in any district, given all the other metrics.\n",
    "\n",
    "Our goal will be to use this dataset to gain some insight about characteristics of different features.\n",
    "We will be using data profiling from pandas and create models (hopefully more than 3) and complare them to find out which model performed the best and probably explain why it is the best model among all in this data.\n"
   ]
  },
  {
   "cell_type": "markdown",
   "id": "c952587b",
   "metadata": {},
   "source": [
    "<!-- BEGIN QUESTION -->\n",
    "\n",
    "### Problem 1.1\n",
    "\n",
    "Download the data and load it in this notebook for further processing and analysis.\n",
    "\n",
    "**Write-up!** Describe the data, answering questions including, but not limited to, these: Where does the data come from? How was it obtained? How many examples and features does the dataset have? What kinds of features are in the dataset? What values can these features take? what kind of relationship you would explore in this dataset and on what features? \n",
    "> **Hint**: Consider the steps of EDA; what would you like to know about this dataset. "
   ]
  },
  {
   "cell_type": "code",
   "execution_count": null,
   "id": "40726cb9",
   "metadata": {},
   "outputs": [],
   "source": [
    "# BEGIN SOLUTION\n",
    "\n",
    "\n",
    "\n",
    "# END SOLUTION"
   ]
  },
  {
   "cell_type": "markdown",
   "id": "736c474f",
   "metadata": {},
   "source": [
    "### Problem 1.2\n",
    "### Getting Familiar with the Data\n",
    "\n",
    "Install the pandas data profile dependencies and import them to generate the data report using __df.profile_report__. \n",
    "Hint - Follow the Lecture9Demo for example.\n",
    "\n",
    "\n",
    "**Write-up!** What is the domain of this dataset and what kind of prediction (regression, classification or clustering) we are doing with this dataset and why? Describe the additional insights (if any) you get from generating the pandas data profile report, which you did not observe in the previous step. Does it change your and thinking process or provide any ideas about data pre-processing or processing steps? "
   ]
  },
  {
   "cell_type": "code",
   "execution_count": null,
   "id": "53a9c21a",
   "metadata": {},
   "outputs": [],
   "source": [
    "# BEGIN SOLUTION\n",
    "\n",
    "\n",
    "\n",
    "# END SOLUTION"
   ]
  },
  {
   "cell_type": "markdown",
   "id": "7c175ddf",
   "metadata": {},
   "source": [
    "### Problem 1.3: Data Description and Pre-processing\n",
    "\n",
    "**Write-up!** What are the major highlights and interesting points in the report generated in the previous cell (or your own EDA process). \n",
    "Describe your insights and thought process regarding those interested aspects of the data/features/graph/statistics in terms of general relationship among features such as correlation, interaction, cardinality, distribution, missing data etc.\n"
   ]
  },
  {
   "cell_type": "code",
   "execution_count": null,
   "id": "f9c25312",
   "metadata": {},
   "outputs": [],
   "source": [
    "# BEGIN SOLUTION\n",
    "\n",
    "\n",
    "\n",
    "# END SOLUTION"
   ]
  },
  {
   "cell_type": "markdown",
   "id": "934b6240",
   "metadata": {},
   "source": [
    "### Problem 1.4: Split the Data (you will be using the same data split (train-validation-test) for all the models in the following questions )\n",
    "\n",
    "Extract input (X) and output (y) data from the dataset. \n",
    "\n",
    "Use the train and test split and k-fold cross validation (use 5 fold cross validation) from the scikit learn library to split the data into 80% training and 20% testing.\n",
    "\n",
    "**NOTE** Remember that you will be using the same cross validation and train test splits values for all the predictive modeling part (Problem 3) for the fair comparision at the end. \n",
    "\n",
    "**NOTE** We are **not** doing any feature engineering yet here, just making a baseline model to compare to!"
   ]
  },
  {
   "cell_type": "code",
   "execution_count": null,
   "id": "93205e1e",
   "metadata": {},
   "outputs": [],
   "source": [
    "# BEGIN SOLUTION\n",
    "\n",
    "\n",
    "\n",
    "# END SOLUTION"
   ]
  },
  {
   "cell_type": "markdown",
   "id": "0d048132",
   "metadata": {},
   "source": [
    "### Problem 1.5: Perform Linear Regression\n",
    "\n",
    "Let's create a baseline model here:\n",
    "\n",
    "Perform Linear Regression on training data. Predict the output for the test dataset using the fitted model. Print the root mean squared error (RMSE) from Linear Regression for test data set. Note that we are still **not** doing any feature engineering yet!\n",
    "\n"
   ]
  },
  {
   "cell_type": "code",
   "execution_count": null,
   "id": "e226941b",
   "metadata": {},
   "outputs": [],
   "source": [
    "# BEGIN SOLUTION\n",
    "\n",
    "\n",
    "\n",
    "# END SOLUTION"
   ]
  },
  {
   "cell_type": "markdown",
   "id": "6073d112",
   "metadata": {},
   "source": [
    "## 2. Feature Engineering"
   ]
  },
  {
   "cell_type": "markdown",
   "id": "9895d324",
   "metadata": {},
   "source": [
    "### Problem 2.1 \n",
    "\n",
    "Identify features which needs feature engineering after looking at the baseline model's result. Perform Feature Tranformation/Manipulation/Engineering in this step and use this knowledge in predictive modeling part. \n",
    "\n",
    "Apply some feature generation technices in order to make those features more useful for the data such as checking the datatypes, handling missing values, extracting new features from existing ones, encoding some features if categorical, scaling, standardization etc. \n",
    "\n",
    "**Write up!** Explain your reasoning for selecting features and performing those specific feature engineering steps respectively.\n",
    "\n",
    "**Do this!** In the cells below, **explain** and perform the steps that you need to prepare this data for further analysis. Make sure that your implementations and write-ups (for processing and analysis) are presented well and effectively describe your workflow. You may add comments or markdown cells for your documentation as you see fit!  \n",
    "\n",
    "*Grading Note: Your work will be graded for _readability_, _style_, and _cleanlines_. So, carefully document your code and use descriptive/intuitive variable names. For write-ups use consice and clear language like in a written project report.*\n",
    "\n",
    "> **Hint**: You can use our previous labs as examples of how you might do this. \n",
    "Also, you might want to come back to this step later on, since you might encounter problems with the data once you actually analyze it. Remember, you may add as many cells (for code and text) as you need below. Here — we gave you one for free!"
   ]
  },
  {
   "cell_type": "code",
   "execution_count": null,
   "id": "eeafa375",
   "metadata": {},
   "outputs": [],
   "source": [
    "# BEGIN SOLUTION\n",
    "\n",
    "\n",
    "\n",
    "# END SOLUTION"
   ]
  },
  {
   "cell_type": "markdown",
   "id": "bef2fd81",
   "metadata": {},
   "source": [
    "\n",
    "### Problem 2.2: Perform Basic Feature Manupilation & Data Transformation\n",
    "\n",
    "1. Be consistent with the feature engineering process in train and test data. No data snooping.\n",
    "2. Handle Missing data: Fill the missing values with the mean of the respective column.\n",
    "3. Encode categorical data: Convert categorical column in the dataset to numerical data.\n",
    "4. Standardize data: Standardize training and test datasets.\n",
    "\n",
    "### Problem 2.3: Perform Feature Engineering (Feature Selection or/and Feature Generation) including but not limited to statistical, ML based, Newly extracted/created features etc. wherever appropriate/applicable in the respective Predictive Modeling part.\n"
   ]
  },
  {
   "cell_type": "code",
   "execution_count": null,
   "id": "d2c9f1e1",
   "metadata": {},
   "outputs": [],
   "source": [
    "# BEGIN SOLUTION\n",
    "\n",
    "\n",
    "\n",
    "# END SOLUTION"
   ]
  },
  {
   "cell_type": "markdown",
   "id": "400d20a9",
   "metadata": {},
   "source": [
    "## 3. Predictive Modeling [Using scikit learn pipeline is highly encouraged]\n",
    "\n",
    "https://scikit-learn.org/stable/modules/generated/sklearn.pipeline.Pipeline.html\n",
    "\n",
    "1. Build a model of housing prices to predict median house values in California using the provided dataset.\n",
    "2. Train the model to learn from the data to predict the median housing price in any district, given all the other metrics.\n",
    "3. Predict housing prices based on median_income and plot the regression chart for it.\n",
    "\n",
    "Remember to use cross-validation and all of our other best practices from HW8, Lab 8 and Lab 9!\n",
    "\n",
    "### Problem 3.1 : Perform K-Nearest Neighbors Regression\n",
    "\n",
    "Perform K-Nearest Neighbors Algorithm for Regression on the training data.\n",
    "\n",
    "Predict output for the test dataset using the fitted model.\n",
    "\n",
    "Print root mean squared error (RMSE) or R^2 (Use either one but be consistent for all the models) from K-Nearest Neighbors Regression on the test datset."
   ]
  },
  {
   "cell_type": "code",
   "execution_count": null,
   "id": "df1f2c3b",
   "metadata": {},
   "outputs": [],
   "source": [
    "# BEGIN SOLUTION\n",
    "\n",
    "\n",
    "\n",
    "# END SOLUTION"
   ]
  },
  {
   "cell_type": "markdown",
   "id": "c3bbd03e",
   "metadata": {},
   "source": [
    "### Problem 3.2 : Perform Decision Tree Regression \n",
    "Perform Decision Tree Regression on the training data.\n",
    "\n",
    "Predict the output for test dataset using the fitted model.\n",
    "\n",
    "Print root mean squared error (RMSE) or R^2 (Use either one but be consistent for all the models) from Decision Tree Regression on the test dataset."
   ]
  },
  {
   "cell_type": "code",
   "execution_count": null,
   "id": "21b7acfb",
   "metadata": {},
   "outputs": [],
   "source": [
    "# BEGIN SOLUTION\n",
    "\n",
    "\n",
    "\n",
    "# END SOLUTION"
   ]
  },
  {
   "cell_type": "markdown",
   "id": "2c275623",
   "metadata": {},
   "source": [
    "### Problem 3.3 : Perform Random Forest Regression :\n",
    "Perform Random Forest Regression on the training data.\n",
    "\n",
    "Predict the output for test dataset using the fitted model.\n",
    "\n",
    "Print root mean squared error (RMSE) or R^2 (Use either one but be consistent for all the models) from Random Forest Regression on the test dataset."
   ]
  },
  {
   "cell_type": "code",
   "execution_count": null,
   "id": "ea76b876",
   "metadata": {},
   "outputs": [],
   "source": [
    "# BEGIN SOLUTION\n",
    "\n",
    "\n",
    "\n",
    "# END SOLUTION"
   ]
  },
  {
   "cell_type": "markdown",
   "id": "2aa77cbd",
   "metadata": {},
   "source": [
    "### Problem 3.4: Perform Linear Regression with one independent variable\n",
    "\n",
    "Extract just the median_income column from the independent variables (from X_train and X_test).\n",
    "\n",
    "Perform Linear Regression to predict housing values based on median_income.\n",
    "\n",
    "Predict output for test dataset using the fitted model.\n",
    "\n",
    "Plot the fitted model for training data as well as for test data to check if the fitted model satisfies the test data.\n",
    "\n",
    "Compare the results of the baseline model with this model's result."
   ]
  },
  {
   "cell_type": "code",
   "execution_count": null,
   "id": "83b90e2d",
   "metadata": {},
   "outputs": [],
   "source": [
    "# BEGIN SOLUTION\n",
    "\n",
    "\n",
    "\n",
    "# END SOLUTION"
   ]
  },
  {
   "cell_type": "markdown",
   "id": "0e2fb079",
   "metadata": {},
   "source": [
    "## 4. Model Comparision"
   ]
  },
  {
   "cell_type": "markdown",
   "id": "6cb142fd",
   "metadata": {},
   "source": [
    "### Problem 4.1:\n",
    "\n",
    "Compare all the models results and report the lowest accuracy score.\n",
    "\n",
    "Visualize all the final models error analysis (RMSE) or R^2 (Use either one but be consistent for all the models) in a bar graph."
   ]
  },
  {
   "cell_type": "code",
   "execution_count": null,
   "id": "a3f00323",
   "metadata": {},
   "outputs": [],
   "source": [
    "# BEGIN SOLUTION\n",
    "\n",
    "\n",
    "\n",
    "# END SOLUTION"
   ]
  },
  {
   "cell_type": "markdown",
   "id": "96793aeb",
   "metadata": {},
   "source": [
    "### Problem 4.2:\n",
    "\n",
    "Now review the feature enginnering lab (lab 9-1 and lab 9-2) and apply one of the feature selection and/or one feature generation method and use it for prediction on the test data. Evaluate and compare the all the models (LR, DT, RF, K-NN) on original features (no feature engineering) with the ones on the engineered features.\n",
    "Then, select the best model after the whole comparision.\n",
    "\n",
    "**Write up** Explain which feature selection and/or one feature generation method have you selected and why for this dataset."
   ]
  },
  {
   "cell_type": "code",
   "execution_count": null,
   "id": "3dcd19ac",
   "metadata": {},
   "outputs": [],
   "source": [
    "# BEGIN SOLUTION\n",
    "\n",
    "\n",
    "\n",
    "# END SOLUTION"
   ]
  },
  {
   "cell_type": "markdown",
   "id": "c7a5d4bd",
   "metadata": {},
   "source": [
    "\n",
    "**Write up** Summarize your results and provide some crucial insights about the entire with and without feature engineering process such as which model performed the best and why, based on what metrics and indicators, etc. Which feature engireeing step provided more value to the predictive modeling process?\n"
   ]
  },
  {
   "cell_type": "code",
   "execution_count": null,
   "id": "3883dd4c",
   "metadata": {},
   "outputs": [],
   "source": [
    "# BEGIN SOLUTION\n",
    "\n",
    "\n",
    "\n",
    "# END SOLUTION"
   ]
  },
  {
   "cell_type": "markdown",
   "id": "bb62adbd",
   "metadata": {},
   "source": [
    "And that's it! Remember to review your work and make sure it is well presented and organized. Not everyting you coded up needs to remain in your submission. **[Does [this cell] spark joy?](https://i.kinja-img.com/gawker-media/image/upload/s--iW_3HGbT--/c_scale,dpr_2.0,f_auto,fl_progressive,q_80,w_800/oruf4oavtj5vpmvaquew.jpg)** You are always trying to communicate your findings to somebody, _maybe even yourself_. \n",
    "\n",
    "> **Final Grading Note/Reminder**: Your work will be graded for _creativity_, _aesthetics_, _readability_, _style_, and _cleanlines_. So, carefully document your code and use descriptive/intuitive variable names. For write-ups use consice and clear language like in a written project report. Be creative in the questions you ask/hypothesis you pose as well as in the plots you use and select visulatizations and colors that make for a plesant and intuitive viewing expereince. The goal of a good visualization is that the viewer will quickly understand your figures. \n",
    "\n",
    "Note that Otter is not being used for this assignment, but is still configured for Gradescope purposes."
   ]
  },
  {
   "cell_type": "code",
   "execution_count": null,
   "id": "a3872b05",
   "metadata": {
    "deletable": false,
    "editable": false
   },
   "outputs": [],
   "source": [
    "grader.check(\"hw9\")"
   ]
  },
  {
   "cell_type": "markdown",
   "id": "20a6b0e9",
   "metadata": {},
   "source": [
    "<!-- END QUESTION -->\n",
    "\n"
   ]
  },
  {
   "cell_type": "markdown",
   "id": "676f5762",
   "metadata": {
    "deletable": false,
    "editable": false
   },
   "source": [
    "---\n",
    "\n",
    "To double-check your work, the cell below will rerun all of the autograder tests."
   ]
  },
  {
   "cell_type": "code",
   "execution_count": null,
   "id": "33b02a31",
   "metadata": {
    "deletable": false,
    "editable": false
   },
   "outputs": [],
   "source": [
    "grader.check_all()"
   ]
  },
  {
   "cell_type": "markdown",
   "id": "473775d7",
   "metadata": {
    "deletable": false,
    "editable": false
   },
   "source": [
    "## Submission\n",
    "\n",
    "Make sure you have run all cells in your notebook in order before running the cell below, so that all images/graphs appear in the output. The cell below will generate a zip file for you to submit. **Please save before exporting!**"
   ]
  },
  {
   "cell_type": "code",
   "execution_count": null,
   "id": "2c9c62f8",
   "metadata": {
    "deletable": false,
    "editable": false
   },
   "outputs": [],
   "source": [
    "# Save your notebook first, then run this cell to export your submission.\n",
    "grader.export(pdf=False)"
   ]
  },
  {
   "cell_type": "markdown",
   "id": "0317ee5f",
   "metadata": {},
   "source": [
    " "
   ]
  }
 ],
 "metadata": {
  "kernelspec": {
   "display_name": "Python 3",
   "language": "python",
   "name": "python3"
  },
  "language_info": {
   "codemirror_mode": {
    "name": "ipython",
    "version": 3
   },
   "file_extension": ".py",
   "mimetype": "text/x-python",
   "name": "python",
   "nbconvert_exporter": "python",
   "pygments_lexer": "ipython3",
   "version": "3.7.11"
  },
  "otter": {
   "tests": {
    "hw9": {
     "name": "hw9",
     "points": 0,
     "suites": [
      {
       "cases": [
        {
         "code": ">>> True\nTrue",
         "hidden": false,
         "locked": false
        }
       ],
       "scored": true,
       "setup": "",
       "teardown": "",
       "type": "doctest"
      }
     ]
    }
   }
  }
 },
 "nbformat": 4,
 "nbformat_minor": 5
}
